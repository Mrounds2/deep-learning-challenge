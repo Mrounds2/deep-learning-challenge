{
 "cells": [
  {
   "cell_type": "markdown",
   "metadata": {},
   "source": [
    "## Preprocessing"
   ]
  },
  {
   "cell_type": "code",
   "execution_count": null,
   "metadata": {},
   "outputs": [],
   "source": [
    "pip install tensorflow"
   ]
  },
  {
   "cell_type": "code",
   "execution_count": 3,
   "metadata": {},
   "outputs": [
    {
     "name": "stdout",
     "output_type": "stream",
     "text": [
      "WARNING:tensorflow:From C:\\Users\\mitch\\AppData\\Local\\Packages\\PythonSoftwareFoundation.Python.3.11_qbz5n2kfra8p0\\LocalCache\\local-packages\\Python311\\site-packages\\keras\\src\\losses.py:2976: The name tf.losses.sparse_softmax_cross_entropy is deprecated. Please use tf.compat.v1.losses.sparse_softmax_cross_entropy instead.\n",
      "\n"
     ]
    },
    {
     "data": {
      "text/html": [
       "<div>\n",
       "<style scoped>\n",
       "    .dataframe tbody tr th:only-of-type {\n",
       "        vertical-align: middle;\n",
       "    }\n",
       "\n",
       "    .dataframe tbody tr th {\n",
       "        vertical-align: top;\n",
       "    }\n",
       "\n",
       "    .dataframe thead th {\n",
       "        text-align: right;\n",
       "    }\n",
       "</style>\n",
       "<table border=\"1\" class=\"dataframe\">\n",
       "  <thead>\n",
       "    <tr style=\"text-align: right;\">\n",
       "      <th></th>\n",
       "      <th>EIN</th>\n",
       "      <th>NAME</th>\n",
       "      <th>APPLICATION_TYPE</th>\n",
       "      <th>AFFILIATION</th>\n",
       "      <th>CLASSIFICATION</th>\n",
       "      <th>USE_CASE</th>\n",
       "      <th>ORGANIZATION</th>\n",
       "      <th>STATUS</th>\n",
       "      <th>INCOME_AMT</th>\n",
       "      <th>SPECIAL_CONSIDERATIONS</th>\n",
       "      <th>ASK_AMT</th>\n",
       "      <th>IS_SUCCESSFUL</th>\n",
       "    </tr>\n",
       "  </thead>\n",
       "  <tbody>\n",
       "    <tr>\n",
       "      <th>0</th>\n",
       "      <td>10520599</td>\n",
       "      <td>BLUE KNIGHTS MOTORCYCLE CLUB</td>\n",
       "      <td>T10</td>\n",
       "      <td>Independent</td>\n",
       "      <td>C1000</td>\n",
       "      <td>ProductDev</td>\n",
       "      <td>Association</td>\n",
       "      <td>1</td>\n",
       "      <td>0</td>\n",
       "      <td>N</td>\n",
       "      <td>5000</td>\n",
       "      <td>1</td>\n",
       "    </tr>\n",
       "    <tr>\n",
       "      <th>1</th>\n",
       "      <td>10531628</td>\n",
       "      <td>AMERICAN CHESAPEAKE CLUB CHARITABLE TR</td>\n",
       "      <td>T3</td>\n",
       "      <td>Independent</td>\n",
       "      <td>C2000</td>\n",
       "      <td>Preservation</td>\n",
       "      <td>Co-operative</td>\n",
       "      <td>1</td>\n",
       "      <td>1-9999</td>\n",
       "      <td>N</td>\n",
       "      <td>108590</td>\n",
       "      <td>1</td>\n",
       "    </tr>\n",
       "    <tr>\n",
       "      <th>2</th>\n",
       "      <td>10547893</td>\n",
       "      <td>ST CLOUD PROFESSIONAL FIREFIGHTERS</td>\n",
       "      <td>T5</td>\n",
       "      <td>CompanySponsored</td>\n",
       "      <td>C3000</td>\n",
       "      <td>ProductDev</td>\n",
       "      <td>Association</td>\n",
       "      <td>1</td>\n",
       "      <td>0</td>\n",
       "      <td>N</td>\n",
       "      <td>5000</td>\n",
       "      <td>0</td>\n",
       "    </tr>\n",
       "    <tr>\n",
       "      <th>3</th>\n",
       "      <td>10553066</td>\n",
       "      <td>SOUTHSIDE ATHLETIC ASSOCIATION</td>\n",
       "      <td>T3</td>\n",
       "      <td>CompanySponsored</td>\n",
       "      <td>C2000</td>\n",
       "      <td>Preservation</td>\n",
       "      <td>Trust</td>\n",
       "      <td>1</td>\n",
       "      <td>10000-24999</td>\n",
       "      <td>N</td>\n",
       "      <td>6692</td>\n",
       "      <td>1</td>\n",
       "    </tr>\n",
       "    <tr>\n",
       "      <th>4</th>\n",
       "      <td>10556103</td>\n",
       "      <td>GENETIC RESEARCH INSTITUTE OF THE DESERT</td>\n",
       "      <td>T3</td>\n",
       "      <td>Independent</td>\n",
       "      <td>C1000</td>\n",
       "      <td>Heathcare</td>\n",
       "      <td>Trust</td>\n",
       "      <td>1</td>\n",
       "      <td>100000-499999</td>\n",
       "      <td>N</td>\n",
       "      <td>142590</td>\n",
       "      <td>1</td>\n",
       "    </tr>\n",
       "  </tbody>\n",
       "</table>\n",
       "</div>"
      ],
      "text/plain": [
       "        EIN                                      NAME APPLICATION_TYPE  \\\n",
       "0  10520599              BLUE KNIGHTS MOTORCYCLE CLUB              T10   \n",
       "1  10531628    AMERICAN CHESAPEAKE CLUB CHARITABLE TR               T3   \n",
       "2  10547893        ST CLOUD PROFESSIONAL FIREFIGHTERS               T5   \n",
       "3  10553066            SOUTHSIDE ATHLETIC ASSOCIATION               T3   \n",
       "4  10556103  GENETIC RESEARCH INSTITUTE OF THE DESERT               T3   \n",
       "\n",
       "        AFFILIATION CLASSIFICATION      USE_CASE  ORGANIZATION  STATUS  \\\n",
       "0       Independent          C1000    ProductDev   Association       1   \n",
       "1       Independent          C2000  Preservation  Co-operative       1   \n",
       "2  CompanySponsored          C3000    ProductDev   Association       1   \n",
       "3  CompanySponsored          C2000  Preservation         Trust       1   \n",
       "4       Independent          C1000     Heathcare         Trust       1   \n",
       "\n",
       "      INCOME_AMT SPECIAL_CONSIDERATIONS  ASK_AMT  IS_SUCCESSFUL  \n",
       "0              0                      N     5000              1  \n",
       "1         1-9999                      N   108590              1  \n",
       "2              0                      N     5000              0  \n",
       "3    10000-24999                      N     6692              1  \n",
       "4  100000-499999                      N   142590              1  "
      ]
     },
     "execution_count": 3,
     "metadata": {},
     "output_type": "execute_result"
    }
   ],
   "source": [
    "# Import our dependencies\n",
    "from sklearn.model_selection import train_test_split\n",
    "from sklearn.preprocessing import StandardScaler\n",
    "import pandas as pd\n",
    "import tensorflow as tf\n",
    "\n",
    "#  Import and read the charity_data.csv.\n",
    "import pandas as pd \n",
    "application_df = pd.read_csv(\"https://static.bc-edx.com/data/dl-1-2/m21/lms/starter/charity_data.csv\")\n",
    "application_df.head()"
   ]
  },
  {
   "cell_type": "code",
   "execution_count": 4,
   "metadata": {},
   "outputs": [],
   "source": [
    "# Drop the non-beneficial ID columns, 'EIN' and 'NAME'.\n",
    "application_df = application_df.drop(['EIN', 'NAME'], axis=1)"
   ]
  },
  {
   "cell_type": "code",
   "execution_count": 5,
   "metadata": {},
   "outputs": [
    {
     "name": "stdout",
     "output_type": "stream",
     "text": [
      "APPLICATION_TYPE            17\n",
      "AFFILIATION                  6\n",
      "CLASSIFICATION              71\n",
      "USE_CASE                     5\n",
      "ORGANIZATION                 4\n",
      "STATUS                       2\n",
      "INCOME_AMT                   9\n",
      "SPECIAL_CONSIDERATIONS       2\n",
      "ASK_AMT                   8747\n",
      "IS_SUCCESSFUL                2\n",
      "dtype: int64\n"
     ]
    }
   ],
   "source": [
    "# Determine the number of unique values in each column.\n",
    "unique_values = application_df.nunique()\n",
    "\n",
    "# Display the result\n",
    "print(unique_values)"
   ]
  },
  {
   "cell_type": "code",
   "execution_count": 6,
   "metadata": {},
   "outputs": [
    {
     "name": "stdout",
     "output_type": "stream",
     "text": [
      "APPLICATION_TYPE\n",
      "T3     27037\n",
      "T4      1542\n",
      "T6      1216\n",
      "T5      1173\n",
      "T19     1065\n",
      "T8       737\n",
      "T7       725\n",
      "T10      528\n",
      "T9       156\n",
      "T13       66\n",
      "T12       27\n",
      "T2        16\n",
      "T25        3\n",
      "T14        3\n",
      "T29        2\n",
      "T15        2\n",
      "T17        1\n",
      "Name: count, dtype: int64\n"
     ]
    }
   ],
   "source": [
    "# Look at APPLICATION_TYPE value counts\n",
    "application_type_counts = application_df['APPLICATION_TYPE'].value_counts()\n",
    "\n",
    "# Display the result\n",
    "print(application_type_counts)"
   ]
  },
  {
   "cell_type": "code",
   "execution_count": 7,
   "metadata": {},
   "outputs": [
    {
     "data": {
      "text/plain": [
       "APPLICATION_TYPE\n",
       "T3       27037\n",
       "T4        1542\n",
       "T6        1216\n",
       "T5        1173\n",
       "T19       1065\n",
       "T8         737\n",
       "T7         725\n",
       "T10        528\n",
       "Other      276\n",
       "Name: count, dtype: int64"
      ]
     },
     "execution_count": 7,
     "metadata": {},
     "output_type": "execute_result"
    }
   ],
   "source": [
    "# Choose a cutoff value and create a list of application types to be replaced\n",
    "# use the variable name `application_types_to_replace`\n",
    "cutoff_value = 500\n",
    "\n",
    "# Create a list of application types to be replaced\n",
    "application_types_to_replace = application_type_counts[application_type_counts < cutoff_value].index.tolist()\n",
    "\n",
    "\n",
    "# Replace in dataframe\n",
    "for app in application_types_to_replace:\n",
    "    application_df['APPLICATION_TYPE'] = application_df['APPLICATION_TYPE'].replace(app,\"Other\")\n",
    "\n",
    "# Check to make sure binning was successful\n",
    "application_df['APPLICATION_TYPE'].value_counts()"
   ]
  },
  {
   "cell_type": "code",
   "execution_count": 8,
   "metadata": {},
   "outputs": [
    {
     "name": "stdout",
     "output_type": "stream",
     "text": [
      "CLASSIFICATION\n",
      "C1000    17326\n",
      "C2000     6074\n",
      "C1200     4837\n",
      "C3000     1918\n",
      "C2100     1883\n",
      "         ...  \n",
      "C4120        1\n",
      "C8210        1\n",
      "C2561        1\n",
      "C4500        1\n",
      "C2150        1\n",
      "Name: count, Length: 71, dtype: int64\n"
     ]
    }
   ],
   "source": [
    "# Look at CLASSIFICATION value counts\n",
    "classification_counts = application_df['CLASSIFICATION'].value_counts()\n",
    "\n",
    "# Display the result\n",
    "print(classification_counts)\n"
   ]
  },
  {
   "cell_type": "code",
   "execution_count": 9,
   "metadata": {},
   "outputs": [
    {
     "name": "stdout",
     "output_type": "stream",
     "text": [
      "CLASSIFICATION\n",
      "C1000    17326\n",
      "C2000     6074\n",
      "C1200     4837\n",
      "C3000     1918\n",
      "C2100     1883\n",
      "C7000      777\n",
      "C1700      287\n",
      "C4000      194\n",
      "C5000      116\n",
      "C1270      114\n",
      "C2700      104\n",
      "C2800       95\n",
      "C7100       75\n",
      "C1300       58\n",
      "C1280       50\n",
      "C1230       36\n",
      "C1400       34\n",
      "C7200       32\n",
      "C2300       32\n",
      "C1240       30\n",
      "C8000       20\n",
      "C7120       18\n",
      "C1500       16\n",
      "C1800       15\n",
      "C6000       15\n",
      "C1250       14\n",
      "C8200       11\n",
      "C1238       10\n",
      "C1278       10\n",
      "C1235        9\n",
      "C1237        9\n",
      "C7210        7\n",
      "C2400        6\n",
      "C1720        6\n",
      "C4100        6\n",
      "C1257        5\n",
      "C1600        5\n",
      "C1260        3\n",
      "C2710        3\n",
      "C0           3\n",
      "C3200        2\n",
      "C1234        2\n",
      "C1246        2\n",
      "C1267        2\n",
      "C1256        2\n",
      "Name: count, dtype: int64\n"
     ]
    }
   ],
   "source": [
    "# Filter CLASSIFICATION value counts for counts > 1\n",
    "classification_counts_greater_than_1 = classification_counts[classification_counts > 1]\n",
    "\n",
    "# Display the result\n",
    "print(classification_counts_greater_than_1)\n"
   ]
  },
  {
   "cell_type": "code",
   "execution_count": 10,
   "metadata": {},
   "outputs": [
    {
     "data": {
      "text/plain": [
       "CLASSIFICATION\n",
       "C1000    17326\n",
       "C2000     6074\n",
       "C1200     4837\n",
       "C3000     1918\n",
       "C2100     1883\n",
       "C7000      777\n",
       "Other      669\n",
       "C1700      287\n",
       "C4000      194\n",
       "C5000      116\n",
       "C1270      114\n",
       "C2700      104\n",
       "Name: count, dtype: int64"
      ]
     },
     "execution_count": 10,
     "metadata": {},
     "output_type": "execute_result"
    }
   ],
   "source": [
    "# Choose a cutoff value and create a list of classifications to be replaced\n",
    "# use the variable name `classifications_to_replace`\n",
    "# Choose a cutoff value\n",
    "cutoff_value_classification = 100  # You can adjust this value based on your data exploration\n",
    "\n",
    "# Create a list of classifications to be replaced\n",
    "classifications_to_replace = classification_counts[classification_counts < cutoff_value_classification].index.tolist()\n",
    "\n",
    "# Replace in dataframe\n",
    "for cls in classifications_to_replace:\n",
    "    application_df['CLASSIFICATION'] = application_df['CLASSIFICATION'].replace(cls,\"Other\")\n",
    "    \n",
    "# Check to make sure binning was successful\n",
    "application_df['CLASSIFICATION'].value_counts()"
   ]
  },
  {
   "cell_type": "code",
   "execution_count": 11,
   "metadata": {},
   "outputs": [
    {
     "name": "stdout",
     "output_type": "stream",
     "text": [
      "   STATUS  ASK_AMT  IS_SUCCESSFUL  APPLICATION_TYPE_Other  \\\n",
      "0       1     5000              1                   False   \n",
      "1       1   108590              1                   False   \n",
      "2       1     5000              0                   False   \n",
      "3       1     6692              1                   False   \n",
      "4       1   142590              1                   False   \n",
      "\n",
      "   APPLICATION_TYPE_T10  APPLICATION_TYPE_T19  APPLICATION_TYPE_T3  \\\n",
      "0                  True                 False                False   \n",
      "1                 False                 False                 True   \n",
      "2                 False                 False                False   \n",
      "3                 False                 False                 True   \n",
      "4                 False                 False                 True   \n",
      "\n",
      "   APPLICATION_TYPE_T4  APPLICATION_TYPE_T5  APPLICATION_TYPE_T6  ...  \\\n",
      "0                False                False                False  ...   \n",
      "1                False                False                False  ...   \n",
      "2                False                 True                False  ...   \n",
      "3                False                False                False  ...   \n",
      "4                False                False                False  ...   \n",
      "\n",
      "   INCOME_AMT_1-9999  INCOME_AMT_10000-24999  INCOME_AMT_100000-499999  \\\n",
      "0              False                   False                     False   \n",
      "1               True                   False                     False   \n",
      "2              False                   False                     False   \n",
      "3              False                    True                     False   \n",
      "4              False                   False                      True   \n",
      "\n",
      "   INCOME_AMT_10M-50M  INCOME_AMT_1M-5M  INCOME_AMT_25000-99999  \\\n",
      "0               False             False                   False   \n",
      "1               False             False                   False   \n",
      "2               False             False                   False   \n",
      "3               False             False                   False   \n",
      "4               False             False                   False   \n",
      "\n",
      "   INCOME_AMT_50M+  INCOME_AMT_5M-10M  SPECIAL_CONSIDERATIONS_N  \\\n",
      "0            False              False                      True   \n",
      "1            False              False                      True   \n",
      "2            False              False                      True   \n",
      "3            False              False                      True   \n",
      "4            False              False                      True   \n",
      "\n",
      "   SPECIAL_CONSIDERATIONS_Y  \n",
      "0                     False  \n",
      "1                     False  \n",
      "2                     False  \n",
      "3                     False  \n",
      "4                     False  \n",
      "\n",
      "[5 rows x 50 columns]\n"
     ]
    }
   ],
   "source": [
    "# Convert categorical data to numeric with pd.get_dummies\n",
    "application_df_encoded = pd.get_dummies(application_df)\n",
    "\n",
    "# Display the resulting DataFrame\n",
    "print(application_df_encoded.head())"
   ]
  },
  {
   "cell_type": "code",
   "execution_count": 12,
   "metadata": {},
   "outputs": [
    {
     "name": "stdout",
     "output_type": "stream",
     "text": [
      "Training set - Features: (25724, 49) Target: (25724,)\n",
      "Testing set - Features: (8575, 49) Target: (8575,)\n"
     ]
    }
   ],
   "source": [
    "# Identify the target column\n",
    "target_column = 'IS_SUCCESSFUL'\n",
    "\n",
    "# Separate the features (X) and the target (y)\n",
    "X = application_df_encoded.drop(columns=[target_column])\n",
    "y = application_df_encoded[target_column]\n",
    "\n",
    "# Split the data into training and testing sets\n",
    "X_train, X_test, y_train, y_test = train_test_split(X, y, random_state=42, stratify=y)\n",
    "\n",
    "# Display the shapes of the training and testing sets\n",
    "print(\"Training set - Features:\", X_train.shape, \"Target:\", y_train.shape)\n",
    "print(\"Testing set - Features:\", X_test.shape, \"Target:\", y_test.shape)\n"
   ]
  },
  {
   "cell_type": "code",
   "execution_count": 13,
   "metadata": {},
   "outputs": [],
   "source": [
    "# Create a StandardScaler instances\n",
    "scaler = StandardScaler()\n",
    "\n",
    "# Fit the StandardScaler\n",
    "X_scaler = scaler.fit(X_train)\n",
    "\n",
    "# Scale the data\n",
    "X_train_scaled = X_scaler.transform(X_train)\n",
    "X_test_scaled = X_scaler.transform(X_test)"
   ]
  },
  {
   "cell_type": "markdown",
   "metadata": {},
   "source": [
    "## Compile, Train and Evaluate the Model"
   ]
  },
  {
   "cell_type": "code",
   "execution_count": 14,
   "metadata": {},
   "outputs": [
    {
     "name": "stdout",
     "output_type": "stream",
     "text": [
      "WARNING:tensorflow:From C:\\Users\\mitch\\AppData\\Local\\Packages\\PythonSoftwareFoundation.Python.3.11_qbz5n2kfra8p0\\LocalCache\\local-packages\\Python311\\site-packages\\keras\\src\\backend.py:873: The name tf.get_default_graph is deprecated. Please use tf.compat.v1.get_default_graph instead.\n",
      "\n",
      "Model: \"sequential\"\n",
      "_________________________________________________________________\n",
      " Layer (type)                Output Shape              Param #   \n",
      "=================================================================\n",
      " dense (Dense)               (None, 8)                 400       \n",
      "                                                                 \n",
      " dense_1 (Dense)             (None, 4)                 36        \n",
      "                                                                 \n",
      " dense_2 (Dense)             (None, 1)                 5         \n",
      "                                                                 \n",
      "=================================================================\n",
      "Total params: 441 (1.72 KB)\n",
      "Trainable params: 441 (1.72 KB)\n",
      "Non-trainable params: 0 (0.00 Byte)\n",
      "_________________________________________________________________\n"
     ]
    }
   ],
   "source": [
    "# Define the model - deep neural net, i.e., the number of input features and hidden nodes for each layer.\n",
    "nn = tf.keras.models.Sequential()\n",
    "\n",
    "# Number of input features\n",
    "input_features = len(X_train.columns)\n",
    "\n",
    "# First hidden layer\n",
    "nn.add(tf.keras.layers.Dense(units=8, activation='relu', input_dim=input_features))\n",
    "\n",
    "# Second hidden layer\n",
    "nn.add(tf.keras.layers.Dense(units=4, activation='relu'))\n",
    "\n",
    "# Output layer\n",
    "nn.add(tf.keras.layers.Dense(units=1, activation='sigmoid'))\n",
    "\n",
    "# Check the structure of the model\n",
    "nn.summary()"
   ]
  },
  {
   "cell_type": "code",
   "execution_count": 15,
   "metadata": {},
   "outputs": [
    {
     "name": "stdout",
     "output_type": "stream",
     "text": [
      "WARNING:tensorflow:From C:\\Users\\mitch\\AppData\\Local\\Packages\\PythonSoftwareFoundation.Python.3.11_qbz5n2kfra8p0\\LocalCache\\local-packages\\Python311\\site-packages\\keras\\src\\optimizers\\__init__.py:309: The name tf.train.Optimizer is deprecated. Please use tf.compat.v1.train.Optimizer instead.\n",
      "\n"
     ]
    }
   ],
   "source": [
    "# Compile the model\n",
    "nn.compile(optimizer='adam', loss='binary_crossentropy', metrics=['accuracy'])\n"
   ]
  },
  {
   "cell_type": "code",
   "execution_count": 16,
   "metadata": {},
   "outputs": [
    {
     "name": "stdout",
     "output_type": "stream",
     "text": [
      "Epoch 1/50\n",
      "WARNING:tensorflow:From C:\\Users\\mitch\\AppData\\Local\\Packages\\PythonSoftwareFoundation.Python.3.11_qbz5n2kfra8p0\\LocalCache\\local-packages\\Python311\\site-packages\\keras\\src\\utils\\tf_utils.py:492: The name tf.ragged.RaggedTensorValue is deprecated. Please use tf.compat.v1.ragged.RaggedTensorValue instead.\n",
      "\n",
      "WARNING:tensorflow:From C:\\Users\\mitch\\AppData\\Local\\Packages\\PythonSoftwareFoundation.Python.3.11_qbz5n2kfra8p0\\LocalCache\\local-packages\\Python311\\site-packages\\keras\\src\\engine\\base_layer_utils.py:384: The name tf.executing_eagerly_outside_functions is deprecated. Please use tf.compat.v1.executing_eagerly_outside_functions instead.\n",
      "\n",
      "804/804 [==============================] - 2s 1ms/step - loss: 0.6316 - accuracy: 0.6661\n",
      "Epoch 2/50\n",
      "804/804 [==============================] - 1s 962us/step - loss: 0.5721 - accuracy: 0.7262\n",
      "Epoch 3/50\n",
      "804/804 [==============================] - 1s 952us/step - loss: 0.5626 - accuracy: 0.7283\n",
      "Epoch 4/50\n",
      "804/804 [==============================] - 1s 951us/step - loss: 0.5569 - accuracy: 0.7290\n",
      "Epoch 5/50\n",
      "804/804 [==============================] - 1s 975us/step - loss: 0.5539 - accuracy: 0.7306\n",
      "Epoch 6/50\n",
      "804/804 [==============================] - 1s 984us/step - loss: 0.5519 - accuracy: 0.7313\n",
      "Epoch 7/50\n",
      "804/804 [==============================] - 1s 940us/step - loss: 0.5505 - accuracy: 0.7312\n",
      "Epoch 8/50\n",
      "804/804 [==============================] - 1s 966us/step - loss: 0.5492 - accuracy: 0.7318\n",
      "Epoch 9/50\n",
      "804/804 [==============================] - 1s 964us/step - loss: 0.5481 - accuracy: 0.7320\n",
      "Epoch 10/50\n",
      "804/804 [==============================] - 1s 974us/step - loss: 0.5475 - accuracy: 0.7328\n",
      "Epoch 11/50\n",
      "804/804 [==============================] - 1s 949us/step - loss: 0.5471 - accuracy: 0.7329\n",
      "Epoch 12/50\n",
      "804/804 [==============================] - 1s 960us/step - loss: 0.5469 - accuracy: 0.7334\n",
      "Epoch 13/50\n",
      "804/804 [==============================] - 1s 972us/step - loss: 0.5460 - accuracy: 0.7340\n",
      "Epoch 14/50\n",
      "804/804 [==============================] - 1s 959us/step - loss: 0.5461 - accuracy: 0.7339\n",
      "Epoch 15/50\n",
      "804/804 [==============================] - 1s 961us/step - loss: 0.5458 - accuracy: 0.7332\n",
      "Epoch 16/50\n",
      "804/804 [==============================] - 1s 931us/step - loss: 0.5455 - accuracy: 0.7338\n",
      "Epoch 17/50\n",
      "804/804 [==============================] - 1s 936us/step - loss: 0.5450 - accuracy: 0.7345\n",
      "Epoch 18/50\n",
      "804/804 [==============================] - 1s 927us/step - loss: 0.5450 - accuracy: 0.7349\n",
      "Epoch 19/50\n",
      "804/804 [==============================] - 1s 1ms/step - loss: 0.5448 - accuracy: 0.7344\n",
      "Epoch 20/50\n",
      "804/804 [==============================] - 1s 1000us/step - loss: 0.5450 - accuracy: 0.7346\n",
      "Epoch 21/50\n",
      "804/804 [==============================] - 1s 961us/step - loss: 0.5445 - accuracy: 0.7349\n",
      "Epoch 22/50\n",
      "804/804 [==============================] - 1s 944us/step - loss: 0.5440 - accuracy: 0.7353\n",
      "Epoch 23/50\n",
      "804/804 [==============================] - 1s 925us/step - loss: 0.5441 - accuracy: 0.7353\n",
      "Epoch 24/50\n",
      "804/804 [==============================] - 1s 945us/step - loss: 0.5443 - accuracy: 0.7352\n",
      "Epoch 25/50\n",
      "804/804 [==============================] - 1s 924us/step - loss: 0.5441 - accuracy: 0.7355\n",
      "Epoch 26/50\n",
      "804/804 [==============================] - 1s 944us/step - loss: 0.5440 - accuracy: 0.7355\n",
      "Epoch 27/50\n",
      "804/804 [==============================] - 1s 984us/step - loss: 0.5437 - accuracy: 0.7358\n",
      "Epoch 28/50\n",
      "804/804 [==============================] - 1s 1ms/step - loss: 0.5436 - accuracy: 0.7358\n",
      "Epoch 29/50\n",
      "804/804 [==============================] - 1s 951us/step - loss: 0.5436 - accuracy: 0.7351\n",
      "Epoch 30/50\n",
      "804/804 [==============================] - 1s 945us/step - loss: 0.5431 - accuracy: 0.7360\n",
      "Epoch 31/50\n",
      "804/804 [==============================] - 1s 931us/step - loss: 0.5434 - accuracy: 0.7353\n",
      "Epoch 32/50\n",
      "804/804 [==============================] - 1s 932us/step - loss: 0.5433 - accuracy: 0.7358\n",
      "Epoch 33/50\n",
      "804/804 [==============================] - 1s 934us/step - loss: 0.5428 - accuracy: 0.7355\n",
      "Epoch 34/50\n",
      "804/804 [==============================] - 1s 937us/step - loss: 0.5429 - accuracy: 0.7357\n",
      "Epoch 35/50\n",
      "804/804 [==============================] - 1s 918us/step - loss: 0.5431 - accuracy: 0.7349\n",
      "Epoch 36/50\n",
      "804/804 [==============================] - 1s 941us/step - loss: 0.5429 - accuracy: 0.7353\n",
      "Epoch 37/50\n",
      "804/804 [==============================] - 1s 916us/step - loss: 0.5428 - accuracy: 0.7360\n",
      "Epoch 38/50\n",
      "804/804 [==============================] - 1s 919us/step - loss: 0.5426 - accuracy: 0.7365\n",
      "Epoch 39/50\n",
      "804/804 [==============================] - 1s 919us/step - loss: 0.5429 - accuracy: 0.7353\n",
      "Epoch 40/50\n",
      "804/804 [==============================] - 1s 919us/step - loss: 0.5429 - accuracy: 0.7349\n",
      "Epoch 41/50\n",
      "804/804 [==============================] - 1s 919us/step - loss: 0.5426 - accuracy: 0.7341\n",
      "Epoch 42/50\n",
      "804/804 [==============================] - 1s 948us/step - loss: 0.5424 - accuracy: 0.7352\n",
      "Epoch 43/50\n",
      "804/804 [==============================] - 1s 943us/step - loss: 0.5426 - accuracy: 0.7360\n",
      "Epoch 44/50\n",
      "804/804 [==============================] - 1s 939us/step - loss: 0.5426 - accuracy: 0.7353\n",
      "Epoch 45/50\n",
      "804/804 [==============================] - 1s 948us/step - loss: 0.5422 - accuracy: 0.7355\n",
      "Epoch 46/50\n",
      "804/804 [==============================] - 1s 950us/step - loss: 0.5425 - accuracy: 0.7355\n",
      "Epoch 47/50\n",
      "804/804 [==============================] - 1s 948us/step - loss: 0.5420 - accuracy: 0.7358\n",
      "Epoch 48/50\n",
      "804/804 [==============================] - 1s 971us/step - loss: 0.5423 - accuracy: 0.7353\n",
      "Epoch 49/50\n",
      "804/804 [==============================] - 1s 951us/step - loss: 0.5422 - accuracy: 0.7352\n",
      "Epoch 50/50\n",
      "804/804 [==============================] - 1s 951us/step - loss: 0.5421 - accuracy: 0.7359\n"
     ]
    }
   ],
   "source": [
    "# Train the model\n",
    "fit_model = nn.fit(X_train_scaled, y_train, epochs=50)\n"
   ]
  },
  {
   "cell_type": "code",
   "execution_count": 17,
   "metadata": {},
   "outputs": [
    {
     "name": "stdout",
     "output_type": "stream",
     "text": [
      "268/268 - 0s - loss: 0.5544 - accuracy: 0.7240 - 309ms/epoch - 1ms/step\n",
      "Loss: 0.5543743968009949, Accuracy: 0.7239649891853333\n"
     ]
    }
   ],
   "source": [
    "# Evaluate the model using the test data\n",
    "model_loss, model_accuracy = nn.evaluate(X_test_scaled,y_test,verbose=2)\n",
    "print(f\"Loss: {model_loss}, Accuracy: {model_accuracy}\")"
   ]
  },
  {
   "cell_type": "code",
   "execution_count": 38,
   "metadata": {},
   "outputs": [],
   "source": [
    "# Specify the file path for the HDF5 file\n",
    "file_path = \"your_model.h5\"\n",
    "\n",
    "# Save the model to the specified file path\n",
    "nn.save(file_path)"
   ]
  },
  {
   "cell_type": "code",
   "execution_count": 50,
   "metadata": {},
   "outputs": [
    {
     "name": "stdout",
     "output_type": "stream",
     "text": [
      "Epoch 1/50\n",
      "804/804 [==============================] - 2s 2ms/step - loss: 0.6972 - accuracy: 0.5579 - val_loss: 0.6432 - val_accuracy: 0.6630 - lr: 1.0000e-04\n",
      "Epoch 2/50\n",
      "804/804 [==============================] - 1s 1ms/step - loss: 0.6548 - accuracy: 0.6218 - val_loss: 0.6112 - val_accuracy: 0.7008 - lr: 1.0000e-04\n",
      "Epoch 3/50\n",
      "804/804 [==============================] - 1s 1ms/step - loss: 0.6332 - accuracy: 0.6591 - val_loss: 0.5930 - val_accuracy: 0.7068 - lr: 1.0000e-04\n",
      "Epoch 4/50\n",
      "804/804 [==============================] - 1s 1ms/step - loss: 0.6189 - accuracy: 0.6764 - val_loss: 0.5835 - val_accuracy: 0.7068 - lr: 1.0000e-04\n",
      "Epoch 5/50\n",
      "804/804 [==============================] - 1s 1ms/step - loss: 0.6117 - accuracy: 0.6856 - val_loss: 0.5786 - val_accuracy: 0.7052 - lr: 1.0000e-04\n",
      "Epoch 6/50\n",
      "804/804 [==============================] - 1s 1ms/step - loss: 0.6049 - accuracy: 0.6941 - val_loss: 0.5748 - val_accuracy: 0.7053 - lr: 1.0000e-04\n",
      "Epoch 7/50\n",
      "804/804 [==============================] - 1s 1ms/step - loss: 0.5997 - accuracy: 0.6965 - val_loss: 0.5718 - val_accuracy: 0.7117 - lr: 1.0000e-04\n",
      "Epoch 8/50\n",
      "804/804 [==============================] - 1s 1ms/step - loss: 0.5953 - accuracy: 0.7023 - val_loss: 0.5697 - val_accuracy: 0.7143 - lr: 1.0000e-04\n",
      "Epoch 9/50\n",
      "804/804 [==============================] - 1s 1ms/step - loss: 0.5978 - accuracy: 0.7020 - val_loss: 0.5688 - val_accuracy: 0.7160 - lr: 1.0000e-04\n",
      "Epoch 10/50\n",
      "804/804 [==============================] - 1s 1ms/step - loss: 0.5907 - accuracy: 0.7079 - val_loss: 0.5677 - val_accuracy: 0.7172 - lr: 1.0000e-04\n",
      "Epoch 11/50\n",
      "804/804 [==============================] - 1s 1ms/step - loss: 0.5929 - accuracy: 0.7072 - val_loss: 0.5672 - val_accuracy: 0.7172 - lr: 9.0484e-05\n",
      "Epoch 12/50\n",
      "804/804 [==============================] - 1s 1ms/step - loss: 0.5855 - accuracy: 0.7100 - val_loss: 0.5662 - val_accuracy: 0.7171 - lr: 8.1873e-05\n",
      "Epoch 13/50\n",
      "804/804 [==============================] - 1s 1ms/step - loss: 0.5879 - accuracy: 0.7091 - val_loss: 0.5655 - val_accuracy: 0.7172 - lr: 7.4082e-05\n",
      "Epoch 14/50\n",
      "804/804 [==============================] - 1s 1ms/step - loss: 0.5857 - accuracy: 0.7117 - val_loss: 0.5651 - val_accuracy: 0.7174 - lr: 6.7032e-05\n",
      "Epoch 15/50\n",
      "804/804 [==============================] - 1s 1ms/step - loss: 0.5838 - accuracy: 0.7103 - val_loss: 0.5648 - val_accuracy: 0.7181 - lr: 6.0653e-05\n",
      "Epoch 16/50\n",
      "804/804 [==============================] - 1s 1ms/step - loss: 0.5823 - accuracy: 0.7159 - val_loss: 0.5644 - val_accuracy: 0.7179 - lr: 5.4881e-05\n",
      "Epoch 17/50\n",
      "804/804 [==============================] - 1s 1ms/step - loss: 0.5829 - accuracy: 0.7133 - val_loss: 0.5643 - val_accuracy: 0.7185 - lr: 4.9659e-05\n",
      "Epoch 18/50\n",
      "804/804 [==============================] - 1s 1ms/step - loss: 0.5845 - accuracy: 0.7118 - val_loss: 0.5641 - val_accuracy: 0.7187 - lr: 4.4933e-05\n",
      "Epoch 19/50\n",
      "804/804 [==============================] - 1s 1ms/step - loss: 0.5839 - accuracy: 0.7144 - val_loss: 0.5640 - val_accuracy: 0.7188 - lr: 4.0657e-05\n",
      "Epoch 20/50\n",
      "804/804 [==============================] - 1s 1ms/step - loss: 0.5823 - accuracy: 0.7151 - val_loss: 0.5638 - val_accuracy: 0.7184 - lr: 3.6788e-05\n",
      "Epoch 21/50\n",
      "804/804 [==============================] - 1s 1ms/step - loss: 0.5811 - accuracy: 0.7166 - val_loss: 0.5636 - val_accuracy: 0.7181 - lr: 3.3287e-05\n",
      "Epoch 22/50\n",
      "804/804 [==============================] - 1s 1ms/step - loss: 0.5803 - accuracy: 0.7171 - val_loss: 0.5634 - val_accuracy: 0.7181 - lr: 3.0119e-05\n",
      "Epoch 23/50\n",
      "804/804 [==============================] - 1s 1ms/step - loss: 0.5806 - accuracy: 0.7195 - val_loss: 0.5633 - val_accuracy: 0.7184 - lr: 2.7253e-05\n",
      "Epoch 24/50\n",
      "804/804 [==============================] - 1s 1ms/step - loss: 0.5803 - accuracy: 0.7178 - val_loss: 0.5632 - val_accuracy: 0.7183 - lr: 2.4660e-05\n",
      "Epoch 25/50\n",
      "804/804 [==============================] - 1s 1ms/step - loss: 0.5797 - accuracy: 0.7186 - val_loss: 0.5631 - val_accuracy: 0.7185 - lr: 2.2313e-05\n",
      "Epoch 26/50\n",
      "804/804 [==============================] - 1s 1ms/step - loss: 0.5790 - accuracy: 0.7194 - val_loss: 0.5630 - val_accuracy: 0.7184 - lr: 2.0190e-05\n",
      "Epoch 27/50\n",
      "804/804 [==============================] - 1s 1ms/step - loss: 0.5805 - accuracy: 0.7187 - val_loss: 0.5630 - val_accuracy: 0.7181 - lr: 1.8268e-05\n",
      "Epoch 28/50\n",
      "804/804 [==============================] - 1s 1ms/step - loss: 0.5796 - accuracy: 0.7186 - val_loss: 0.5630 - val_accuracy: 0.7183 - lr: 1.6530e-05\n",
      "Epoch 29/50\n",
      "804/804 [==============================] - 1s 1ms/step - loss: 0.5820 - accuracy: 0.7201 - val_loss: 0.5629 - val_accuracy: 0.7184 - lr: 1.4957e-05\n",
      "Epoch 30/50\n",
      "804/804 [==============================] - 1s 2ms/step - loss: 0.5799 - accuracy: 0.7199 - val_loss: 0.5629 - val_accuracy: 0.7190 - lr: 1.3534e-05\n",
      "Epoch 31/50\n",
      "804/804 [==============================] - 1s 1ms/step - loss: 0.5792 - accuracy: 0.7189 - val_loss: 0.5628 - val_accuracy: 0.7190 - lr: 1.2246e-05\n",
      "Epoch 32/50\n",
      "804/804 [==============================] - 1s 2ms/step - loss: 0.5781 - accuracy: 0.7200 - val_loss: 0.5627 - val_accuracy: 0.7188 - lr: 1.1080e-05\n",
      "Epoch 33/50\n",
      "804/804 [==============================] - 1s 1ms/step - loss: 0.5785 - accuracy: 0.7188 - val_loss: 0.5627 - val_accuracy: 0.7185 - lr: 1.0026e-05\n",
      "Epoch 34/50\n",
      "804/804 [==============================] - 1s 1ms/step - loss: 0.5800 - accuracy: 0.7194 - val_loss: 0.5627 - val_accuracy: 0.7185 - lr: 9.0718e-06\n",
      "Epoch 35/50\n",
      "804/804 [==============================] - 1s 1ms/step - loss: 0.5791 - accuracy: 0.7212 - val_loss: 0.5626 - val_accuracy: 0.7187 - lr: 8.2085e-06\n",
      "Epoch 36/50\n",
      "804/804 [==============================] - 1s 2ms/step - loss: 0.5767 - accuracy: 0.7226 - val_loss: 0.5626 - val_accuracy: 0.7185 - lr: 7.4274e-06\n",
      "Epoch 37/50\n",
      "804/804 [==============================] - 1s 1ms/step - loss: 0.5776 - accuracy: 0.7206 - val_loss: 0.5626 - val_accuracy: 0.7187 - lr: 6.7206e-06\n",
      "Epoch 38/50\n",
      "804/804 [==============================] - 1s 1ms/step - loss: 0.5786 - accuracy: 0.7210 - val_loss: 0.5626 - val_accuracy: 0.7187 - lr: 6.0810e-06\n",
      "Epoch 39/50\n",
      "804/804 [==============================] - 1s 1ms/step - loss: 0.5766 - accuracy: 0.7199 - val_loss: 0.5625 - val_accuracy: 0.7187 - lr: 5.5023e-06\n",
      "Epoch 40/50\n",
      "804/804 [==============================] - 1s 1ms/step - loss: 0.5772 - accuracy: 0.7236 - val_loss: 0.5625 - val_accuracy: 0.7187 - lr: 4.9787e-06\n",
      "Epoch 41/50\n",
      "804/804 [==============================] - 1s 1ms/step - loss: 0.5788 - accuracy: 0.7203 - val_loss: 0.5625 - val_accuracy: 0.7187 - lr: 4.5049e-06\n",
      "Epoch 42/50\n",
      "804/804 [==============================] - 1s 1ms/step - loss: 0.5789 - accuracy: 0.7193 - val_loss: 0.5625 - val_accuracy: 0.7187 - lr: 4.0762e-06\n",
      "Epoch 43/50\n",
      "804/804 [==============================] - 1s 1ms/step - loss: 0.5801 - accuracy: 0.7210 - val_loss: 0.5625 - val_accuracy: 0.7187 - lr: 3.6883e-06\n",
      "Epoch 44/50\n",
      "804/804 [==============================] - 1s 1ms/step - loss: 0.5803 - accuracy: 0.7196 - val_loss: 0.5625 - val_accuracy: 0.7187 - lr: 3.3373e-06\n",
      "Epoch 45/50\n",
      "804/804 [==============================] - 1s 1ms/step - loss: 0.5795 - accuracy: 0.7210 - val_loss: 0.5624 - val_accuracy: 0.7187 - lr: 3.0197e-06\n",
      "Epoch 46/50\n",
      "804/804 [==============================] - 1s 1ms/step - loss: 0.5803 - accuracy: 0.7184 - val_loss: 0.5624 - val_accuracy: 0.7187 - lr: 2.7324e-06\n",
      "Epoch 47/50\n",
      "804/804 [==============================] - 1s 1ms/step - loss: 0.5791 - accuracy: 0.7219 - val_loss: 0.5624 - val_accuracy: 0.7187 - lr: 2.4724e-06\n",
      "Epoch 48/50\n",
      "804/804 [==============================] - 1s 1ms/step - loss: 0.5790 - accuracy: 0.7204 - val_loss: 0.5624 - val_accuracy: 0.7187 - lr: 2.2371e-06\n",
      "Epoch 49/50\n",
      "804/804 [==============================] - 1s 1ms/step - loss: 0.5779 - accuracy: 0.7205 - val_loss: 0.5624 - val_accuracy: 0.7187 - lr: 2.0242e-06\n",
      "Epoch 50/50\n",
      "804/804 [==============================] - 1s 1ms/step - loss: 0.5814 - accuracy: 0.7210 - val_loss: 0.5624 - val_accuracy: 0.7187 - lr: 1.8316e-06\n",
      "268/268 [==============================] - 0s 845us/step - loss: 0.5624 - accuracy: 0.7187\n",
      "Test Accuracy: 0.7187\n"
     ]
    }
   ],
   "source": [
    "import tensorflow as tf\n",
    "from tensorflow.keras.callbacks import EarlyStopping, LearningRateScheduler\n",
    "\n",
    "# Define a function for a simple learning rate scheduler\n",
    "def lr_scheduler(epoch, lr):\n",
    "    if epoch < 10:\n",
    "        return lr\n",
    "    else:\n",
    "        return lr * tf.math.exp(-0.1)\n",
    "\n",
    "# Create a Sequential model\n",
    "nn = tf.keras.models.Sequential()\n",
    "\n",
    "# Number of input features\n",
    "input_features = len(X_train.columns)\n",
    "\n",
    "# Define the model architecture\n",
    "nn.add(tf.keras.layers.Dense(units=32, activation='relu', input_dim=input_features))\n",
    "nn.add(tf.keras.layers.Dropout(0.3))\n",
    "nn.add(tf.keras.layers.Dense(units=16, activation='tanh'))\n",
    "nn.add(tf.keras.layers.Dropout(0.2))\n",
    "nn.add(tf.keras.layers.Dense(units=8, activation='relu'))\n",
    "nn.add(tf.keras.layers.Dropout(0.2))\n",
    "nn.add(tf.keras.layers.Dense(units=1, activation='sigmoid'))\n",
    "\n",
    "# Compile the model with a lower learning rate\n",
    "optimizer = tf.keras.optimizers.Adam(learning_rate=0.0001)\n",
    "nn.compile(optimizer=optimizer, loss='binary_crossentropy', metrics=['accuracy'])\n",
    "\n",
    "# Implement early stopping and learning rate scheduler\n",
    "early_stopping = EarlyStopping(monitor='val_loss', patience=10, restore_best_weights=True)\n",
    "lr_scheduler_callback = LearningRateScheduler(lr_scheduler)\n",
    "\n",
    "# Train the model\n",
    "history = nn.fit(\n",
    "    X_train_scaled, y_train, \n",
    "    epochs=50, \n",
    "    validation_data=(X_test_scaled, y_test), \n",
    "    callbacks=[early_stopping, lr_scheduler_callback]\n",
    ")\n",
    "\n",
    "# Evaluate the model on the test set\n",
    "test_loss, test_accuracy = nn.evaluate(X_test_scaled, y_test)\n",
    "print(f\"Test Accuracy: {test_accuracy:.4f}\")\n"
   ]
  },
  {
   "cell_type": "code",
   "execution_count": 51,
   "metadata": {},
   "outputs": [
    {
     "name": "stdout",
     "output_type": "stream",
     "text": [
      "268/268 - 0s - loss: 0.5624 - accuracy: 0.7187 - 216ms/epoch - 807us/step\n",
      "Loss: 0.5624094605445862, Accuracy: 0.7187172174453735\n"
     ]
    }
   ],
   "source": [
    "# Evaluate the model using the test data\n",
    "model_loss, model_accuracy = nn.evaluate(X_test_scaled,y_test,verbose=2)\n",
    "print(f\"Loss: {model_loss}, Accuracy: {model_accuracy}\")"
   ]
  }
 ],
 "metadata": {
  "kernelspec": {
   "display_name": "Python 3",
   "language": "python",
   "name": "python3"
  },
  "language_info": {
   "codemirror_mode": {
    "name": "ipython",
    "version": 3
   },
   "file_extension": ".py",
   "mimetype": "text/x-python",
   "name": "python",
   "nbconvert_exporter": "python",
   "pygments_lexer": "ipython3",
   "version": "3.11.6"
  },
  "vscode": {
   "interpreter": {
    "hash": "31f2aee4e71d21fbe5cf8b01ff0e069b9275f58929596ceb00d14d90e3e16cd6"
   }
  }
 },
 "nbformat": 4,
 "nbformat_minor": 4
}
